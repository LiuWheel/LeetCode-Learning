{
 "metadata": {
  "language_info": {
   "codemirror_mode": {
    "name": "ipython",
    "version": 3
   },
   "file_extension": ".py",
   "mimetype": "text/x-python",
   "name": "python",
   "nbconvert_exporter": "python",
   "pygments_lexer": "ipython3",
   "version": "3.6.9-final"
  },
  "orig_nbformat": 2,
  "kernelspec": {
   "name": "python_defaultSpec_1610957318962",
   "display_name": "Python 3.6.9 64-bit"
  }
 },
 "nbformat": 4,
 "nbformat_minor": 2,
 "cells": [
  {
   "cell_type": "markdown",
   "metadata": {},
   "source": []
  },
  {
   "cell_type": "code",
   "execution_count": 54,
   "metadata": {},
   "outputs": [],
   "source": [
    "def countAndSay(n):\n",
    "    s_str = \"\"\n",
    "    if n == 1:\n",
    "        s_str = \"1\"\n",
    "        return s_str\n",
    "    if n == 2:\n",
    "        s_str = \"11\"\n",
    "        return s_str\n",
    "    s_str = \"11\"\n",
    "    for _ in range(n-2):\n",
    "        point1 = 0\n",
    "        point2 = point1 + 1\n",
    "        one_s = s_str[0]\n",
    "        new_s_str = \"\"\n",
    "        while(point2<len(s_str)):\n",
    "            if s_str[point1] == s_str[point2]:\n",
    "                point2 += 1\n",
    "            else:\n",
    "                new_s_str = new_s_str + str(point2 - point1) + s_str[point1]\n",
    "                point1 = point2\n",
    "                point2 = point1 + 1\n",
    "            # print(new_s_str)\n",
    "        new_s_str = new_s_str + str(point2 - point1) + s_str[point1]\n",
    "        s_str = new_s_str\n",
    "    return s_str"
   ]
  },
  {
   "cell_type": "code",
   "execution_count": 55,
   "metadata": {
    "tags": []
   },
   "outputs": [
    {
     "output_type": "stream",
     "name": "stdout",
     "text": "21\n1211\n111221\n312211\n312211\n"
    }
   ],
   "source": [
    "print(countAndSay(6))"
   ]
  },
  {
   "cell_type": "code",
   "execution_count": null,
   "metadata": {},
   "outputs": [],
   "source": []
  }
 ]
}