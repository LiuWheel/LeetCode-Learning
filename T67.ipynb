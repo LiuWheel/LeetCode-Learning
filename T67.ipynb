{
 "metadata": {
  "language_info": {
   "codemirror_mode": {
    "name": "ipython",
    "version": 3
   },
   "file_extension": ".py",
   "mimetype": "text/x-python",
   "name": "python",
   "nbconvert_exporter": "python",
   "pygments_lexer": "ipython3",
   "version": "3.6.9-final"
  },
  "orig_nbformat": 2,
  "kernelspec": {
   "name": "python_defaultSpec_1611048038998",
   "display_name": "Python 3.6.9 64-bit"
  }
 },
 "nbformat": 4,
 "nbformat_minor": 2,
 "cells": [
  {
   "cell_type": "code",
   "execution_count": null,
   "metadata": {},
   "outputs": [],
   "source": [
    "给你两个二进制字符串，返回它们的和（用二进制表示）。\n",
    "\n",
    "输入为 非空 字符串且只包含数字 1 和 0。\n",
    "\n",
    " \n",
    "\n",
    "示例 1:\n",
    "\n",
    "输入: a = \"11\", b = \"1\"\n",
    "输出: \"100\"\n",
    "示例 2:\n",
    "\n",
    "输入: a = \"1010\", b = \"1011\"\n",
    "输出: \"10101\"\n",
    " \n",
    "\n",
    "提示：\n",
    "\n",
    "每个字符串仅由字符 '0' 或 '1' 组成。\n",
    "1 <= a.length, b.length <= 10^4\n",
    "字符串如果不是 \"0\" ，就都不含前导零。"
   ]
  },
  {
   "cell_type": "code",
   "execution_count": 27,
   "metadata": {},
   "outputs": [],
   "source": [
    "def addBinary(a, b):\n",
    "    if len(a)>len(b):\n",
    "        b = \"0\"*(len(a)-len(b))+b\n",
    "    else:\n",
    "        a = \"0\"*(len(b)-len(a))+a\n",
    "    up = 0\n",
    "    sum_data = \"\"\n",
    "\n",
    "    for i,j in zip(a[::-1], b[::-1]):\n",
    "        up = int(i) + int(j) + up\n",
    "        if up == 2:\n",
    "            up = 1\n",
    "            sum_data = '0' + sum_data\n",
    "        elif up == 3:\n",
    "            up = 1\n",
    "            sum_data = '1' + sum_data\n",
    "        else:\n",
    "            sum_data = str(up) + sum_data\n",
    "            up = 0\n",
    "    if up == 1:\n",
    "        return \"1\"+sum_data\n",
    "    return sum_data"
   ]
  },
  {
   "cell_type": "code",
   "execution_count": 31,
   "metadata": {
    "tags": []
   },
   "outputs": [
    {
     "output_type": "stream",
     "name": "stdout",
     "text": "100110\n"
    }
   ],
   "source": [
    "print(addBinary(a=\"1111\", b=\"10111\"))"
   ]
  },
  {
   "cell_type": "code",
   "execution_count": null,
   "metadata": {},
   "outputs": [],
   "source": []
  }
 ]
}