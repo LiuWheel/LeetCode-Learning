{
 "metadata": {
  "language_info": {
   "codemirror_mode": {
    "name": "ipython",
    "version": 3
   },
   "file_extension": ".py",
   "mimetype": "text/x-python",
   "name": "python",
   "nbconvert_exporter": "python",
   "pygments_lexer": "ipython3",
   "version": "3.6.9-final"
  },
  "orig_nbformat": 2,
  "kernelspec": {
   "name": "python_defaultSpec_1610587819354",
   "display_name": "Python 3.6.9 64-bit"
  }
 },
 "nbformat": 4,
 "nbformat_minor": 2,
 "cells": [
  {
   "cell_type": "markdown",
   "metadata": {},
   "source": [
    "编写一个函数来查找字符串数组中的最长公共前缀。\n",
    "\n",
    "如果不存在公共前缀，返回空字符串 \"\"。\n",
    "\n",
    " \n",
    "\n",
    "示例 1：\n",
    "\n",
    "输入：strs = [\"flower\",\"flow\",\"flight\"]\n",
    "输出：\"fl\"\n",
    "示例 2：\n",
    "\n",
    "输入：strs = [\"dog\",\"racecar\",\"car\"]\n",
    "输出：\"\"\n",
    "解释：输入不存在公共前缀。\n",
    " \n",
    "\n",
    "提示：\n",
    "\n",
    "0 <= strs.length <= 200\n",
    "0 <= strs[i].length <= 200\n",
    "strs[i] 仅由小写英文字母组成"
   ]
  },
  {
   "cell_type": "code",
   "execution_count": 3,
   "metadata": {},
   "outputs": [],
   "source": [
    "def longestCommonPrefix(strs):\n",
    "    if len(strs) == 0:\n",
    "            return \"\"\n",
    "    min_len = len(strs[0])\n",
    "    for i in strs:\n",
    "        if len(i) < min_len:\n",
    "            min_len = len(i)\n",
    "    i = 0\n",
    "    common_list = \"\"\n",
    "    while(i<min_len):\n",
    "        c = strs[0][i]\n",
    "        for ichar in strs[1:]:\n",
    "            if c != ichar[i]:\n",
    "                return common_list\n",
    "        common_list += c\n",
    "        i += 1\n",
    "    return common_list"
   ]
  },
  {
   "cell_type": "code",
   "execution_count": 4,
   "metadata": {
    "tags": []
   },
   "outputs": [
    {
     "output_type": "stream",
     "name": "stdout",
     "text": "fl\n"
    }
   ],
   "source": [
    "print(longestCommonPrefix([\"flower\",\"flow\",\"flight\"]))"
   ]
  },
  {
   "cell_type": "code",
   "execution_count": null,
   "metadata": {},
   "outputs": [],
   "source": []
  }
 ]
}