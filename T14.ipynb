{
 "metadata": {
  "language_info": {
   "codemirror_mode": {
    "name": "ipython",
    "version": 3
   },
   "file_extension": ".py",
   "mimetype": "text/x-python",
   "name": "python",
   "nbconvert_exporter": "python",
   "pygments_lexer": "ipython3",
   "version": "3.6.9-final"
  },
  "orig_nbformat": 2,
  "kernelspec": {
   "name": "python_defaultSpec_1611211774592",
   "display_name": "Python 3.6.9 64-bit"
  }
 },
 "nbformat": 4,
 "nbformat_minor": 2,
 "cells": [
  {
   "cell_type": "markdown",
   "metadata": {},
   "source": [
    "### 题目14: **Longest Common Prefixr**  https://leetcode-cn.com/problems/longest-common-prefix/\n",
    "\n",
    "#### 题目内容:\n",
    "Write a function to find the longest common prefix string amongst an array of strings.\n",
    "\n",
    "If there is no common prefix, return an empty string \"\".\n",
    "\n",
    "*   Example 1:\n",
    "\n",
    "Input: strs = [\"flower\",\"flow\",\"flight\"]\n",
    "Output: \"fl\"\n",
    "\n",
    "*   Example 2:\n",
    "\n",
    "Input: strs = [\"dog\",\"racecar\",\"car\"]\n",
    "Output: \"\"\n",
    "Explanation: There is no common prefix among the input strings.\n",
    "\n",
    "**Constraints**:\n",
    "*   0 <= strs.length <= 200\n",
    "*   0 <= strs[i].length <= 200\n",
    "*   strs[i] consists of only lower-case English letters."
   ]
  },
  {
   "cell_type": "markdown",
   "metadata": {},
   "source": [
    "### 解题思路1: 遍历\n",
    "\n",
    "算法复杂度为: O(s)   s为所有字符串的长度"
   ]
  },
  {
   "cell_type": "code",
   "execution_count": 3,
   "metadata": {},
   "outputs": [],
   "source": [
    "def longestCommonPrefix(strs):\n",
    "    if len(strs) == 0:\n",
    "            return \"\"\n",
    "    min_len = len(strs[0])\n",
    "    for i in strs:\n",
    "        if len(i) < min_len:\n",
    "            min_len = len(i)\n",
    "    i = 0\n",
    "    common_list = \"\"\n",
    "    while(i<min_len):\n",
    "        c = strs[0][i]\n",
    "        for ichar in strs[1:]:\n",
    "            if c != ichar[i]:\n",
    "                return common_list\n",
    "        common_list += c\n",
    "        i += 1\n",
    "    return common_list"
   ]
  },
  {
   "cell_type": "code",
   "execution_count": 4,
   "metadata": {
    "tags": []
   },
   "outputs": [
    {
     "output_type": "stream",
     "name": "stdout",
     "text": "fl\n"
    }
   ],
   "source": [
    "print(longestCommonPrefix([\"flower\",\"flow\",\"flight\"]))"
   ]
  }
 ]
}