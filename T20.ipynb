{
 "metadata": {
  "language_info": {
   "codemirror_mode": {
    "name": "ipython",
    "version": 3
   },
   "file_extension": ".py",
   "mimetype": "text/x-python",
   "name": "python",
   "nbconvert_exporter": "python",
   "pygments_lexer": "ipython3",
   "version": "3.6.9-final"
  },
  "orig_nbformat": 2,
  "kernelspec": {
   "name": "python_defaultSpec_1611278420875",
   "display_name": "Python 3.6.9 64-bit"
  }
 },
 "nbformat": 4,
 "nbformat_minor": 2,
 "cells": [
  {
   "cell_type": "markdown",
   "metadata": {},
   "source": [
    "### 题目20: **Valid Parentheses**  https://leetcode-cn.com/problems/valid-parentheses/\n",
    "\n",
    "#### 题目内容:\n",
    "Given a string s containing just the characters '(', ')', '{', '}', '[' and ']', determine if the input string is valid.\n",
    "\n",
    "An input string is valid if: Open brackets must be closed by the same type of brackets. Open brackets must be closed in the correct order.\n",
    " \n",
    "*   Example 1:\n",
    "\n",
    "Input: s = \"()\"\n",
    "Output: true\n",
    "\n",
    "*   Example 2:\n",
    "\n",
    "Input: s = \"()[]{}\"\n",
    "Output: true\n",
    "\n",
    "*   Example 3:\n",
    "\n",
    "Input: s = \"(]\"\n",
    "Output: false\n",
    "\n",
    "*   Example 4:\n",
    "\n",
    "Input: s = \"([)]\"\n",
    "Output: false\n",
    "\n",
    "*   Example 5:\n",
    "\n",
    "Input: s = \"{[]}\"\n",
    "Output: true\n",
    " \n",
    "\n",
    "Constraints:\n",
    "*   1 <= s.length <= 104\n",
    "*   s consists of parentheses only '()[]{}'."
   ]
  },
  {
   "cell_type": "code",
   "execution_count": 1,
   "metadata": {},
   "outputs": [],
   "source": [
    "def isValid(s):\n",
    "    c_dict = {\"(\":\")\", \"[\":\"]\", \"{\":\"}\", \")\":\"(\", \"]\":\"[\", \"}\":\"{\"}\n",
    "    return_dict = [\")\", \"]\", \"}\"]\n",
    "    if s == \"\":\n",
    "        return True\n",
    "    stack_out = s\n",
    "    stack_in = []\n",
    "    for i in stack_out:\n",
    "        if stack_in == []:\n",
    "            stack_in.append(i)\n",
    "        else:\n",
    "            if stack_in[-1] in return_dict:\n",
    "                return False\n",
    "            if stack_in[-1] == c_dict[i]:\n",
    "                stack_in.pop()\n",
    "            else:\n",
    "                stack_in.append(i)\n",
    "    if len(stack_in) != 0:\n",
    "        return False\n",
    "    return True"
   ]
  },
  {
   "cell_type": "markdown",
   "metadata": {},
   "source": [
    "### 解题思路: 栈\n",
    "\n",
    "算法复杂度为:  O(n)\n",
    "\n",
    "对于个题目,需要一对一对进行消除,所以说明s为奇数个时是无效的,要输出False.\n",
    "\n",
    "采用栈的方式,对于\"(\",\"{\",\"[\"这种左括号来说,其实就是压入栈里(append);而对于右括号来说,就是要与栈中最后一个元素进行消除(pop).\n",
    "\n",
    "所以遍历s的每个元素,查看是否为左括号,如果是,则压入栈stack中;如果不是左括号,则需要消除,这时候会有边界条件,当stack为空时,新来的右括号无法消除,当新来的右括号无法消除左括号时,也会false.\n",
    "最后只需要查看stack是否为空就可以了."
   ]
  },
  {
   "cell_type": "code",
   "execution_count": 1,
   "metadata": {
    "tags": []
   },
   "outputs": [],
   "source": [
    "def isValid(s):\n",
    "    if len(s)%2 == 1:\n",
    "        return False\n",
    "    c_dict = {\")\":\"(\", \"]\":\"[\", \"}\":\"{\"}\n",
    "    stack = []\n",
    "    for i_s in s:\n",
    "        if i_s in c_dict:\n",
    "            if stack is [] or stack[-1] != c_dict[i_s]:\n",
    "                return False\n",
    "            else:\n",
    "                stack.pop()\n",
    "        else:\n",
    "            stack.append(i_s)\n",
    "    return not stack"
   ]
  },
  {
   "cell_type": "code",
   "execution_count": 2,
   "metadata": {
    "tags": []
   },
   "outputs": [
    {
     "output_type": "stream",
     "name": "stdout",
     "text": "True\n"
    }
   ],
   "source": [
    "print(isValid(\"(){}[]\"))"
   ]
  },
  {
   "cell_type": "code",
   "execution_count": null,
   "metadata": {},
   "outputs": [],
   "source": []
  }
 ]
}