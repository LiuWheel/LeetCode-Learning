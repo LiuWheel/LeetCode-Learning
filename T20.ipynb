{
 "metadata": {
  "language_info": {
   "codemirror_mode": {
    "name": "ipython",
    "version": 3
   },
   "file_extension": ".py",
   "mimetype": "text/x-python",
   "name": "python",
   "nbconvert_exporter": "python",
   "pygments_lexer": "ipython3",
   "version": "3.6.9-final"
  },
  "orig_nbformat": 2,
  "kernelspec": {
   "name": "python_defaultSpec_1610592844406",
   "display_name": "Python 3.6.9 64-bit"
  }
 },
 "nbformat": 4,
 "nbformat_minor": 2,
 "cells": [
  {
   "cell_type": "markdown",
   "metadata": {},
   "source": [
    "给定一个只包括 '('，')'，'{'，'}'，'['，']' 的字符串，判断字符串是否有效。\n",
    "\n",
    "有效字符串需满足：\n",
    "\n",
    "左括号必须用相同类型的右括号闭合。\n",
    "左括号必须以正确的顺序闭合。\n",
    "注意空字符串可被认为是有效字符串。\n",
    "\n",
    "示例 1:\n",
    "\n",
    "输入: \"()\"\n",
    "输出: true\n",
    "示例 2:\n",
    "\n",
    "输入: \"()[]{}\"\n",
    "输出: true\n",
    "示例 3:\n",
    "\n",
    "输入: \"(]\"\n",
    "输出: false\n",
    "示例 4:\n",
    "\n",
    "输入: \"([)]\"\n",
    "输出: false\n",
    "示例 5:\n",
    "\n",
    "输入: \"{[]}\"\n",
    "输出: true"
   ]
  },
  {
   "cell_type": "code",
   "execution_count": 1,
   "metadata": {},
   "outputs": [],
   "source": [
    "def isValid(s):\n",
    "    c_dict = {\"(\":\")\", \"[\":\"]\", \"{\":\"}\", \")\":\"(\", \"]\":\"[\", \"}\":\"{\"}\n",
    "    return_dict = [\")\", \"]\", \"}\"]\n",
    "    if s == \"\":\n",
    "        return True\n",
    "    stack_out = s\n",
    "    stack_in = []\n",
    "    for i in stack_out:\n",
    "        if stack_in == []:\n",
    "            stack_in.append(i)\n",
    "        else:\n",
    "            if stack_in[-1] in return_dict:\n",
    "                return False\n",
    "            if stack_in[-1] == c_dict[i]:\n",
    "                stack_in.pop()\n",
    "            else:\n",
    "                stack_in.append(i)\n",
    "    if len(stack_in) != 0:\n",
    "        return False\n",
    "    return True"
   ]
  },
  {
   "cell_type": "code",
   "execution_count": 2,
   "metadata": {
    "tags": []
   },
   "outputs": [
    {
     "output_type": "stream",
     "name": "stdout",
     "text": "True\n"
    }
   ],
   "source": [
    "print(isValid(\"{[]}\"))"
   ]
  },
  {
   "cell_type": "code",
   "execution_count": 9,
   "metadata": {
    "tags": []
   },
   "outputs": [
    {
     "output_type": "stream",
     "name": "stdout",
     "text": "True\n"
    }
   ],
   "source": []
  },
  {
   "cell_type": "code",
   "execution_count": null,
   "metadata": {},
   "outputs": [],
   "source": []
  }
 ]
}