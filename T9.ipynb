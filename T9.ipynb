{
 "metadata": {
  "language_info": {
   "codemirror_mode": {
    "name": "ipython",
    "version": 3
   },
   "file_extension": ".py",
   "mimetype": "text/x-python",
   "name": "python",
   "nbconvert_exporter": "python",
   "pygments_lexer": "ipython3",
   "version": "3.6.9-final"
  },
  "orig_nbformat": 2,
  "kernelspec": {
   "name": "python_defaultSpec_1611200182498",
   "display_name": "Python 3.6.9 64-bit"
  }
 },
 "nbformat": 4,
 "nbformat_minor": 2,
 "cells": [
  {
   "cell_type": "markdown",
   "metadata": {},
   "source": [
    "### 题目9: **Reverse Integer**   https://leetcode-cn.com/problems/palindrome-number/\n",
    "\n",
    "#### 题目内容:\n",
    "Given an integer x, return true if x is palindrome integer.\n",
    "\n",
    "An integer is a palindrome when it reads the same backward as forward. For example, 121 is palindrome while 123 is not.\n",
    "\n",
    "*   Example 1:\n",
    "\n",
    "Input: x = 121\n",
    "Output: true\n",
    "\n",
    "*   Example 2:\n",
    "\n",
    "Input: x = -121\n",
    "Output: false\n",
    "Explanation: From left to right, it reads -121. From right to left, it becomes 121-. Therefore it is not a palindrome.\n",
    "\n",
    "*   Example 3:\n",
    "\n",
    "Input: x = 10\n",
    "Output: false\n",
    "Explanation: Reads 01 from right to left. Therefore it is not a palindrome.\n",
    "\n",
    "*   Example 4:\n",
    "\n",
    "Input: x = -101\n",
    "Output: false\n",
    " \n",
    "**Constraints**:  -231 <= x <= 231 - 1\n",
    " \n",
    "Follow up: Could you solve it without converting the integer to a string?"
   ]
  },
  {
   "cell_type": "markdown",
   "metadata": {},
   "source": [
    "### 解题思路1: 使用数字的弹出与推入\n",
    "\n",
    "算法复杂度为:  O(log10(n))\n",
    "\n",
    "从题目中可以看出,全体负数是不满足要求的,要输出False.\n",
    "能被10整除的数字也不是回文数,除了0.\n",
    "对于正数来说,可以使用数字的弹出与推入.\n",
    "一种方式是可以从头到结尾全弹出与推入,然后再判断推入数据与弹出前数据是否相等.\n",
    "\n",
    "第二种方式是,只从头到结尾只弹出一半,然后进行判断,这种方式比第一种方式能节省一半的计算量,所以更加有效,方式如下:\n",
    "\n",
    "在弹出时需要考虑奇数位数与偶数位数的区别:\n",
    "*   对于奇数位数,可以考虑弹出的(n-1)/2个数字与(剩余的数字与推入数字比较)\n",
    "*   对于偶数位数,可以考虑弹出的(n/2)与未弹出的数字是否相同"
   ]
  },
  {
   "cell_type": "code",
   "execution_count": 10,
   "metadata": {},
   "outputs": [],
   "source": [
    "def isPalindrome(x):\n",
    "    if x<0 or (x%10 == 0 and x!=0):\n",
    "        return False\n",
    "    revertedNumber = 0\n",
    "    while(x>revertedNumber):\n",
    "        revertedNumber = revertedNumber*10 + x%10\n",
    "        x //= 10\n",
    "    return (x == revertedNumber) or (revertedNumber//10 == x)"
   ]
  },
  {
   "cell_type": "code",
   "execution_count": 12,
   "metadata": {
    "tags": []
   },
   "outputs": [
    {
     "output_type": "stream",
     "name": "stdout",
     "text": "123\n124\nFalse\n"
    }
   ],
   "source": [
    "print(isPalindrome(123421))"
   ]
  },
  {
   "cell_type": "code",
   "execution_count": null,
   "metadata": {},
   "outputs": [],
   "source": []
  }
 ]
}