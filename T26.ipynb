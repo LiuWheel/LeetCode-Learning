{
 "metadata": {
  "language_info": {
   "codemirror_mode": {
    "name": "ipython",
    "version": 3
   },
   "file_extension": ".py",
   "mimetype": "text/x-python",
   "name": "python",
   "nbconvert_exporter": "python",
   "pygments_lexer": "ipython3",
   "version": "3.6.9-final"
  },
  "orig_nbformat": 2,
  "kernelspec": {
   "name": "python_defaultSpec_1611281302056",
   "display_name": "Python 3.6.9 64-bit"
  }
 },
 "nbformat": 4,
 "nbformat_minor": 2,
 "cells": [
  {
   "cell_type": "markdown",
   "metadata": {},
   "source": [
    "### 题目26: **Remove Duplicates from Sorted Array**  https://leetcode-cn.com/problems/remove-duplicates-from-sorted-array/\n",
    "\n",
    "#### 题目内容:\n",
    "\n",
    "Given a sorted array nums, remove the duplicates in-place such that each element appears only once and returns the new length.\n",
    "\n",
    "Do not allocate extra space for another array, you must do this by modifying the input array in-place with O(1) extra memory.\n",
    "\n",
    "Clarification:\n",
    "\n",
    "Confused why the returned value is an integer but your answer is an array?\n",
    "\n",
    "Note that the input array is passed in by reference, which means a modification to the input array will be known to the caller as well.\n",
    "\n",
    "Internally you can think of this:\n",
    "\n",
    "// nums is passed in by reference. (i.e., without making a copy)\n",
    "int len = removeDuplicates(nums);\n",
    "\n",
    "// any modification to nums in your function would be known by the caller.\n",
    "\n",
    "// using the length returned by your function, it prints the first len elements.\n",
    "\n",
    "for (int i = 0; i < len; i++) {\n",
    "\n",
    "    print(nums[i]);\n",
    "\n",
    "}\n",
    "\n",
    "Example 1:\n",
    "\n",
    "Input: nums = [1,1,2]\n",
    "Output: 2, nums = [1,2]\n",
    "Explanation: Your function should return length = 2, with the first two elements of nums being 1 and 2 respectively. It doesn't matter what you leave beyond the returned length.\n",
    "\n",
    "Example 2:\n",
    "\n",
    "Input: nums = [0,0,1,1,1,2,2,3,3,4]\n",
    "Output: 5, nums = [0,1,2,3,4]\n",
    "Explanation: Your function should return length = 5, with the first five elements of nums being modified to 0, 1, 2, 3, and 4 respectively. It doesn't matter what values are set beyond the returned length.\n",
    "\n",
    "Constraints:\n",
    "*   0 <= nums.length <= 3 * 104\n",
    "*   -104 <= nums[i] <= 104\n",
    "*   nums is sorted in ascending order."
   ]
  },
  {
   "cell_type": "markdown",
   "metadata": {},
   "source": [
    "### 解题思路: 单个指针索引\n",
    "算法复杂度为: O(n)\n",
    "\n",
    "定义一个指针所在位置上一个位置的O(1)的空间pre_nums, 指针移动,若与pre_nums相同,则删除目前的指针位置的元素;若不相同,则将现在指针的数值复制给pre_nums,然后指针下移一位."
   ]
  },
  {
   "cell_type": "code",
   "execution_count": 28,
   "metadata": {},
   "outputs": [],
   "source": [
    "def removeDuplicates(nums):\n",
    "    pre_nums = ''\n",
    "    i = 0\n",
    "    while(i<len(nums)):\n",
    "        if nums[i] == pre_nums:\n",
    "            nums.pop(i)\n",
    "        else:\n",
    "            pre_nums = nums[i]\n",
    "            i += 1\n",
    "    return len(nums)"
   ]
  },
  {
   "cell_type": "code",
   "execution_count": 29,
   "metadata": {
    "tags": []
   },
   "outputs": [
    {
     "output_type": "stream",
     "name": "stdout",
     "text": "5\n"
    }
   ],
   "source": [
    "print(removeDuplicates([0,0,1,1,1,2,2,3,3,4]))"
   ]
  },
  {
   "cell_type": "code",
   "execution_count": 31,
   "metadata": {
    "tags": []
   },
   "outputs": [
    {
     "output_type": "stream",
     "name": "stdout",
     "text": "0\n"
    }
   ],
   "source": [
    "print(removeDuplicates([]))"
   ]
  },
  {
   "cell_type": "markdown",
   "metadata": {},
   "source": [
    "### 解题思路2: 双指针\n",
    "算法复杂度为: O(n)\n",
    "\n",
    "题目动画请看:https://leetcode-cn.com/problems/remove-duplicates-from-sorted-array/solution/kuai-man-zhi-zhen-26-shan-chu-pai-xu-shu-xf3t/"
   ]
  },
  {
   "cell_type": "code",
   "execution_count": 46,
   "metadata": {},
   "outputs": [],
   "source": [
    "def removeDuplicates(nums):\n",
    "    if len(nums) == 0:\n",
    "        return 0\n",
    "    i = 0\n",
    "    for j_num in nums:\n",
    "        if nums[i] != j_num:\n",
    "            i += 1\n",
    "            nums[i] = j_num\n",
    "    return i+1"
   ]
  },
  {
   "cell_type": "code",
   "execution_count": 47,
   "metadata": {
    "tags": []
   },
   "outputs": [
    {
     "output_type": "stream",
     "name": "stdout",
     "text": "-----\n0\n0\n[0, 0, 1, 1, 1, 2, 2, 3, 3, 4]\n****\n-----\n0\n0\n[0, 0, 1, 1, 1, 2, 2, 3, 3, 4]\n****\n-----\n0\n1\n[0, 0, 1, 1, 1, 2, 2, 3, 3, 4]\n****\n-----\n1\n1\n[0, 1, 1, 1, 1, 2, 2, 3, 3, 4]\n****\n-----\n1\n1\n[0, 1, 1, 1, 1, 2, 2, 3, 3, 4]\n****\n-----\n1\n2\n[0, 1, 1, 1, 1, 2, 2, 3, 3, 4]\n****\n-----\n2\n2\n[0, 1, 2, 1, 1, 2, 2, 3, 3, 4]\n****\n-----\n2\n3\n[0, 1, 2, 1, 1, 2, 2, 3, 3, 4]\n****\n-----\n3\n3\n[0, 1, 2, 3, 1, 2, 2, 3, 3, 4]\n****\n-----\n3\n4\n[0, 1, 2, 3, 1, 2, 2, 3, 3, 4]\n****\n0\n0\n"
    }
   ],
   "source": [
    "print(removeDuplicates([0,0,1,1,1,2,2,3,3,4]))\n",
    "print(removeDuplicates([]))"
   ]
  },
  {
   "cell_type": "code",
   "execution_count": null,
   "metadata": {},
   "outputs": [],
   "source": []
  }
 ]
}