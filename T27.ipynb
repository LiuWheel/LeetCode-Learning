{
 "metadata": {
  "language_info": {
   "codemirror_mode": {
    "name": "ipython",
    "version": 3
   },
   "file_extension": ".py",
   "mimetype": "text/x-python",
   "name": "python",
   "nbconvert_exporter": "python",
   "pygments_lexer": "ipython3",
   "version": "3.6.9-final"
  },
  "orig_nbformat": 2,
  "kernelspec": {
   "name": "python_defaultSpec_1611286387076",
   "display_name": "Python 3.6.9 64-bit"
  }
 },
 "nbformat": 4,
 "nbformat_minor": 2,
 "cells": [
  {
   "cell_type": "markdown",
   "metadata": {},
   "source": [
    "### 题目27: **Remove Element**  https://leetcode-cn.com/problems/remove-element/\n",
    "\n",
    "#### 题目内容:\n",
    "\n",
    "Given an array nums and a value val, remove all instances of that value in-place and return the new length.\n",
    "\n",
    "Do not allocate extra space for another array, you must do this by modifying the input array in-place with O(1) extra memory.\n",
    "\n",
    "The order of elements can be changed. It doesn't matter what you leave beyond the new length.\n",
    "\n",
    "Clarification:\n",
    "\n",
    "Confused why the returned value is an integer but your answer is an array?\n",
    "\n",
    "Note that the input array is passed in by reference, which means a modification to the input array will be known to the caller as well.\n",
    "\n",
    "Internally you can think of this:\n",
    "\n",
    "// nums is passed in by reference. (i.e., without making a copy)\n",
    "\n",
    "int len = removeElement(nums, val);\n",
    "\n",
    "// any modification to nums in your function would be known by the caller.\n",
    "\n",
    "// using the length returned by your function, it prints the first len elements.\n",
    "\n",
    "for (int i = 0; i < len; i++) {\n",
    "\n",
    "    print(nums[i]);\n",
    "\n",
    "}\n",
    "\n",
    "*   Example 1:\n",
    "\n",
    "Input: nums = [3,2,2,3], val = 3\n",
    "Output: 2, nums = [2,2]\n",
    "Explanation: Your function should return length = 2, with the first two elements of nums being 2.\n",
    "It doesn't matter what you leave beyond the returned length. For example if you return 2 with nums = [2,2,3,3] or nums = [2,2,0,0], your answer will be accepted.\n",
    "\n",
    "*   Example 2:\n",
    "\n",
    "Input: nums = [0,1,2,2,3,0,4,2], val = 2\n",
    "Output: 5, nums = [0,1,4,0,3]\n",
    "Explanation: Your function should return length = 5, with the first five elements of nums containing 0, 1, 3, 0, and 4. Note that the order of those five elements can be arbitrary. It doesn't matter what values are set beyond the returned length. \n",
    "\n",
    "Constraints:\n",
    "*   0 <= nums.length <= 100\n",
    "*   0 <= nums[i] <= 50\n",
    "*   0 <= val <= 100"
   ]
  },
  {
   "cell_type": "markdown",
   "metadata": {},
   "source": [
    "### 解题思路: 单指针索引\n",
    "\n",
    "算法复杂度为:  O(n)\n",
    "\n",
    "与T26思路很像"
   ]
  },
  {
   "cell_type": "code",
   "execution_count": 1,
   "metadata": {},
   "outputs": [],
   "source": [
    "def removeElement(nums, val):\n",
    "    point1 = 0\n",
    "    while point1 < len(nums):\n",
    "        if nums[point1] == val:\n",
    "            nums.pop(point1)\n",
    "        else:\n",
    "            point1 += 1\n",
    "    return len(nums)"
   ]
  },
  {
   "cell_type": "code",
   "execution_count": 3,
   "metadata": {
    "tags": []
   },
   "outputs": [
    {
     "output_type": "stream",
     "name": "stdout",
     "text": "8\n"
    }
   ],
   "source": [
    "print(removeElement([0,1,2,2,3,0,4,2], 7))"
   ]
  },
  {
   "cell_type": "markdown",
   "metadata": {},
   "source": [
    "### 解题思路: 双指针索引\n",
    "\n",
    "算法复杂度为:  O(n)\n",
    "\n",
    "与T26思路很想, 但要注意边界条件\n"
   ]
  },
  {
   "cell_type": "code",
   "execution_count": 14,
   "metadata": {},
   "outputs": [],
   "source": [
    "def removeElement(nums, val):\n",
    "    if len(nums) == 0: return 0\n",
    "    i = 0\n",
    "    for j in nums:\n",
    "        if j != val:\n",
    "            nums[i] = j\n",
    "            i += 1\n",
    "    return i "
   ]
  },
  {
   "cell_type": "code",
   "execution_count": 16,
   "metadata": {
    "tags": []
   },
   "outputs": [
    {
     "output_type": "stream",
     "name": "stdout",
     "text": "2\n"
    }
   ],
   "source": [
    "print(removeElement([0,1,2], 0))"
   ]
  },
  {
   "cell_type": "markdown",
   "metadata": {},
   "source": [
    "### 解题思路: 双指针索引 方法2\n",
    "\n",
    "算法复杂度为:  O(n)\n",
    "\n",
    "相比于第一种方法,第二种方法在需要删除元素很少的情况下是更有效率的."
   ]
  }
 ]
}