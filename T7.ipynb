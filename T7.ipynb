{
 "metadata": {
  "language_info": {
   "codemirror_mode": {
    "name": "ipython",
    "version": 3
   },
   "file_extension": ".py",
   "mimetype": "text/x-python",
   "name": "python",
   "nbconvert_exporter": "python",
   "pygments_lexer": "ipython3",
   "version": "3.6.9-final"
  },
  "orig_nbformat": 2,
  "kernelspec": {
   "name": "python_defaultSpec_1611194599575",
   "display_name": "Python 3.6.9 64-bit"
  }
 },
 "nbformat": 4,
 "nbformat_minor": 2,
 "cells": [
  {
   "cell_type": "markdown",
   "metadata": {},
   "source": [
    "### 题目7: **Reverse Integer**   https://leetcode-cn.com/problems/reverse-integer/\n",
    "\n",
    "#### 题目内容:\n",
    "Given a signed 32-bit integer x, return x with its digits reversed. If reversing x causes the value to go outside the signed 32-bit integer range [-231, 231 - 1], then return 0.\n",
    "\n",
    "Assume the environment does not allow you to store 64-bit integers (signed or unsigned).\n",
    "\n",
    "\n",
    "*   Example 1:\n",
    "\n",
    "Input: x = 123\n",
    "Output: 321\n",
    "\n",
    "*   Example 2:\n",
    "\n",
    "Input: x = -123\n",
    "Output: -321\n",
    "\n",
    "*   Example 3:\n",
    "\n",
    "Input: x = 120\n",
    "Output: 21\n",
    "\n",
    "*   Example 4:\n",
    "\n",
    "Input: x = 0\n",
    "Output: 0\n",
    " \n",
    "Constraints: -231 <= x <= 231 - 1"
   ]
  },
  {
   "cell_type": "markdown",
   "metadata": {},
   "source": [
    "### 解题思路1: 使用数字的弹出与推入\n",
    "\n",
    "算法复杂度为:  O(log10(n))\n",
    "\n",
    "此题目中C++版本与python版本是不相同的, C++的%运算与python的%运算有差异\n",
    "\n",
    "采用数字弹出(pop = x%10) 与 数字推入(new = new*10 + pop)的方式,但是在推入数字的过程中很容易造成数字的溢出: new*10 + pop > IMAX\n",
    "\n",
    "**python思路**所以针对推入过程进行分析,有2种情况:\n",
    "*   1. new*10 + pop <= IMAX时,推入过程数字没有溢出\n",
    "*   2. new*10 + pop > IMAX时,推入过程数字溢出\n",
    "综上,可以检查 new 与 (IMAX - pop)/10之间的关系来确定是否溢出.(python中/直接进行浮点运算)\n",
    "\n",
    "**C++思路**针对上述过程进行分析,有3种情况:\n",
    "*   1.new*10 + pop < IMAX时, 因为在C++中计算性质问题,要用int来操作,所以,这种情况可以转化为 new < (IMAX - pop)/10 < IMAX/10\n",
    "*   2.new = IMAX/10时, 存在溢出的可能性, 则要判断 pop是否超过7(整数,2^31-1)或是否小于-8(整数,-2^31)\n",
    "*   3.new > IMAX/10时, new*10>IMAX 则,new*10+pop>= new*10 > IMAX,则数据肯定溢出"
   ]
  },
  {
   "cell_type": "code",
   "execution_count": 37,
   "metadata": {},
   "outputs": [],
   "source": [
    "def reverse(x):\n",
    "    flag = 1 if x>0 else -1\n",
    "    x = abs(x)\n",
    "    new_x = 0\n",
    "    while(x!=0):\n",
    "        pop = x%10\n",
    "        if new_x > ((2**31-1) - pop)/10:\n",
    "            return 0\n",
    "        new_x = new_x*10 + pop\n",
    "        x = x // 10\n",
    "    return new_x*flag"
   ]
  },
  {
   "cell_type": "code",
   "execution_count": 41,
   "metadata": {
    "tags": []
   },
   "outputs": [
    {
     "output_type": "stream",
     "name": "stdout",
     "text": "-2143847412\n"
    }
   ],
   "source": [
    "print(reverse(-2147483412))"
   ]
  },
  {
   "cell_type": "markdown",
   "metadata": {},
   "source": [
    "### 解题思路2: 使用字符串作为推出和推入的方式,这样就不用进行数字运算了"
   ]
  }
 ]
}