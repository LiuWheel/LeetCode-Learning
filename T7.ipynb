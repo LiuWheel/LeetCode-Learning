{
 "metadata": {
  "language_info": {
   "codemirror_mode": {
    "name": "ipython",
    "version": 3
   },
   "file_extension": ".py",
   "mimetype": "text/x-python",
   "name": "python",
   "nbconvert_exporter": "python",
   "pygments_lexer": "ipython3",
   "version": "3.6.9-final"
  },
  "orig_nbformat": 2,
  "kernelspec": {
   "name": "python_defaultSpec_1610527402556",
   "display_name": "Python 3.6.9 64-bit"
  }
 },
 "nbformat": 4,
 "nbformat_minor": 2,
 "cells": [
  {
   "cell_type": "markdown",
   "metadata": {},
   "source": [
    "### 题目7: **Reverse Integer**   https://leetcode-cn.com/problems/reverse-integer/\n",
    "\n",
    "#### 题目内容:\n",
    "Given a signed 32-bit integer x, return x with its digits reversed. If reversing x causes the value to go outside the signed 32-bit integer range [-231, 231 - 1], then return 0.\n",
    "\n",
    "Assume the environment does not allow you to store 64-bit integers (signed or unsigned).\n",
    "\n",
    "\n",
    "*   Example 1:\n",
    "\n",
    "Input: x = 123\n",
    "Output: 321\n",
    "\n",
    "*   Example 2:\n",
    "\n",
    "Input: x = -123\n",
    "Output: -321\n",
    "\n",
    "*   Example 3:\n",
    "\n",
    "Input: x = 120\n",
    "Output: 21\n",
    "\n",
    "*   Example 4:\n",
    "\n",
    "Input: x = 0\n",
    "Output: 0\n",
    " \n",
    "Constraints: -231 <= x <= 231 - 1"
   ]
  },
  {
   "cell_type": "markdown",
   "metadata": {},
   "source": [
    "### 解题思路1: ****\n",
    "暴力搜索(从头部往后部检索)  算法时间复杂度O(n^2)"
   ]
  },
  {
   "cell_type": "code",
   "execution_count": 32,
   "metadata": {},
   "outputs": [],
   "source": [
    "def reverse(x):\n",
    "    if -2**31 > x or x > 2**31-1:\n",
    "        return 0\n",
    "    flag = -1 if x < 0 else 1\n",
    "    x = abs(x)\n",
    "    reverse_x = 0\n",
    "    while(x>=1):\n",
    "        a = x%10\n",
    "        reverse_x = (reverse_x + a) * 10\n",
    "        x = x // 10\n",
    "    return int(reverse_x/10) * flag"
   ]
  },
  {
   "cell_type": "code",
   "execution_count": 33,
   "metadata": {
    "tags": []
   },
   "outputs": [
    {
     "output_type": "stream",
     "name": "stdout",
     "text": "9646324351\n"
    }
   ],
   "source": [
    "print(reverse(1534236469))"
   ]
  },
  {
   "cell_type": "markdown",
   "metadata": {},
   "source": [
    "### 解题思路2: **暴力搜索**\n",
    "暴力搜索(从头部往后部检索)  算法时间复杂度O(n^2)"
   ]
  },
  {
   "cell_type": "code",
   "execution_count": null,
   "metadata": {},
   "outputs": [],
   "source": []
  }
 ]
}