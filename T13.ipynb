{
 "metadata": {
  "language_info": {
   "codemirror_mode": {
    "name": "ipython",
    "version": 3
   },
   "file_extension": ".py",
   "mimetype": "text/x-python",
   "name": "python",
   "nbconvert_exporter": "python",
   "pygments_lexer": "ipython3",
   "version": "3.6.9-final"
  },
  "orig_nbformat": 2,
  "kernelspec": {
   "name": "python_defaultSpec_1611208098978",
   "display_name": "Python 3.6.9 64-bit"
  }
 },
 "nbformat": 4,
 "nbformat_minor": 2,
 "cells": [
  {
   "cell_type": "markdown",
   "metadata": {},
   "source": [
    "### 题目13: **Reverse Integer**   https://leetcode-cn.com/problems/roman-to-integer/\n",
    "\n",
    "#### 题目内容:\n",
    "Roman numerals are represented by seven different symbols: I, V, X, L, C, D and M.\n",
    "\n",
    "Symbol       Value\n",
    "\n",
    "I             1\n",
    "\n",
    "V             5\n",
    "\n",
    "X             10\n",
    "\n",
    "L             50\n",
    "\n",
    "C             100\n",
    "\n",
    "D             500\n",
    "\n",
    "M             1000\n",
    "\n",
    "For example, 2 is written as II in Roman numeral, just two one's added together. 12 is written as XII, which is simply X + II. The number 27 is written as XXVII, which is XX + V + II.\n",
    "\n",
    "Roman numerals are usually written largest to smallest from left to right. However, the numeral for four is not IIII. Instead, the number four is written as IV. Because the one is before the five we subtract it making four. The same principle applies to the number nine, which is written as IX. There are six instances where subtraction is used:\n",
    "\n",
    "I can be placed before V (5) and X (10) to make 4 and 9. \n",
    "X can be placed before L (50) and C (100) to make 40 and 90. \n",
    "C can be placed before D (500) and M (1000) to make 400 and 900.\n",
    "Given a roman numeral, convert it to an integer.\n",
    "\n",
    "*   Example 1:\n",
    "\n",
    "Input: s = \"III\"\n",
    "Output: 3\n",
    "\n",
    "*   Example 2:\n",
    "\n",
    "Input: s = \"IV\"\n",
    "Output: 4\n",
    "\n",
    "*   Example 3:\n",
    "\n",
    "Input: s = \"IX\"\n",
    "Output: 9\n",
    "\n",
    "*   Example 4:\n",
    "\n",
    "Input: s = \"LVIII\"\n",
    "Output: 58\n",
    "Explanation: L = 50, V= 5, III = 3.\n",
    "\n",
    "*   Example 5:\n",
    "\n",
    "Input: s = \"MCMXCIV\"\n",
    "Output: 1994\n",
    "Explanation: M = 1000, CM = 900, XC = 90 and IV = 4.\n",
    " \n",
    "**Constraints**:  1 <= s.length <= 15\n",
    "s contains only the characters ('I', 'V', 'X', 'L', 'C', 'D', 'M').\n",
    "It is guaranteed that s is a valid roman numeral in the range [1, 3999].\n"
   ]
  },
  {
   "cell_type": "markdown",
   "metadata": {},
   "source": [
    "### 解题思路1: 双指针\n",
    "\n",
    "算法复杂度为:  O(n)\n",
    "\n",
    "使用双指针,用于判断快指针与慢指针之间的关系:\n",
    "*   如果快指针大于慢指针, 则需要 使用快指针数值减去满指针数值,然后慢指针+2\n",
    "*   如果快指针小于等于慢指针,则需要 慢指针+1\n",
    "在退出循环中有两种情况:\n",
    "*   一种是慢指针+2直接超出了字符串的长度\n",
    "*   另一种是慢指针+1后,快指针超出了字符串长度,慢指针还留在字符串的最后一位"
   ]
  },
  {
   "cell_type": "code",
   "execution_count": 1,
   "metadata": {},
   "outputs": [],
   "source": [
    "def romanToInt(s):\n",
    "    roman_dict = {\"I\":1, \"V\":5, \"X\":10, \"L\":50, \"C\":100, \"D\":500, \"M\":1000}\n",
    "\n",
    "    intFromRoman = 0\n",
    "    if len(s) == 1:\n",
    "        return roman_dict[s[0]]\n",
    "    point1 = 0\n",
    "    point2 = point1 + 1\n",
    "    while(point1<len(s)-1 or point2<len(s)-1):\n",
    "        if roman_dict[s[point1]] >= roman_dict[s[point2]]:\n",
    "            intFromRoman += roman_dict[s[point1]]\n",
    "            point1 += 1\n",
    "            point2 = point1 + 1\n",
    "        else:\n",
    "            intFromRoman += roman_dict[s[point2]] - roman_dict[s[point1]]\n",
    "            point1 += 2\n",
    "            point2 = point1 + 1\n",
    "    if point1 <= len(s)-1:\n",
    "        intFromRoman += roman_dict[s[point1]]\n",
    "    return intFromRoman"
   ]
  },
  {
   "cell_type": "code",
   "execution_count": 2,
   "metadata": {
    "tags": []
   },
   "outputs": [
    {
     "output_type": "stream",
     "name": "stdout",
     "text": "1994\n"
    }
   ],
   "source": [
    "print(romanToInt(\"MCMXCIV\"))"
   ]
  },
  {
   "cell_type": "markdown",
   "metadata": {},
   "source": [
    "### 解题思路2: 创建新的表,只用一位进行检索\n",
    "\n",
    "这道题的要点在于查询位置point的数值是否大于上一个数值(这样就可以避免出现跳出循环的多种情况),大于则使用减法,小于等于则使用加法."
   ]
  },
  {
   "cell_type": "code",
   "execution_count": 25,
   "metadata": {},
   "outputs": [],
   "source": [
    "def romanToInt(s):\n",
    "    roman_dict = {\"I\":1, \"V\":5, \"X\":10, \"L\":50, \"C\":100, \"D\":500, \"M\":1000}\n",
    "    intFromRoman = 0\n",
    "    preNum = roman_dict[s[0]]\n",
    "    for i in range(1, len(s)):\n",
    "        if preNum >= roman_dict[s[i]]:\n",
    "            intFromRoman += preNum\n",
    "        else:\n",
    "            intFromRoman -= preNum\n",
    "        preNum = roman_dict[s[i]]\n",
    "        # print(preNum)\n",
    "        print(intFromRoman)\n",
    "    intFromRoman += preNum\n",
    "    return intFromRoman"
   ]
  },
  {
   "cell_type": "code",
   "execution_count": 26,
   "metadata": {
    "tags": []
   },
   "outputs": [
    {
     "output_type": "stream",
     "name": "stdout",
     "text": "1000\n900\n1900\n1890\n1990\n1989\n1994\n"
    }
   ],
   "source": [
    "print(romanToInt(\"MCMXCIV\"))"
   ]
  },
  {
   "cell_type": "code",
   "execution_count": null,
   "metadata": {},
   "outputs": [],
   "source": []
  }
 ]
}