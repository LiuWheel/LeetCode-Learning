{
 "metadata": {
  "language_info": {
   "codemirror_mode": {
    "name": "ipython",
    "version": 3
   },
   "file_extension": ".py",
   "mimetype": "text/x-python",
   "name": "python",
   "nbconvert_exporter": "python",
   "pygments_lexer": "ipython3",
   "version": "3.6.9-final"
  },
  "orig_nbformat": 2,
  "kernelspec": {
   "name": "python_defaultSpec_1611045221898",
   "display_name": "Python 3.6.9 64-bit"
  }
 },
 "nbformat": 4,
 "nbformat_minor": 2,
 "cells": [
  {
   "cell_type": "markdown",
   "metadata": {},
   "source": [
    "给定一个仅包含大小写字母和空格 ' ' 的字符串 s，返回其最后一个单词的长度。如果字符串从左向右滚动显示，那么最后一个单词就是最后出现的单词。\n",
    "\n",
    "如果不存在最后一个单词，请返回 0 。\n",
    "\n",
    "说明：一个单词是指仅由字母组成、不包含任何空格字符的 最大子字符串。\n",
    "\n",
    " \n",
    "\n",
    "示例:\n",
    "\n",
    "输入: \"Hello World\"\n",
    "输出: 5"
   ]
  },
  {
   "cell_type": "code",
   "execution_count": 5,
   "metadata": {},
   "outputs": [],
   "source": [
    "def lengthOfLastWord(s):\n",
    "    if len(s) == 0:\n",
    "        return 0\n",
    "    count = 0\n",
    "    i = len(s) - 1\n",
    "    while(i>=0):\n",
    "        if s[i] == \" \":\n",
    "            if count == 0:\n",
    "                i -= 1\n",
    "                continue\n",
    "            break\n",
    "        count += 1\n",
    "        i -= 1\n",
    "    return count\n",
    "    "
   ]
  },
  {
   "cell_type": "code",
   "execution_count": 10,
   "metadata": {
    "tags": []
   },
   "outputs": [
    {
     "output_type": "stream",
     "name": "stdout",
     "text": "3\n"
    }
   ],
   "source": [
    "print(lengthOfLastWord(\"hell wor\"))"
   ]
  },
  {
   "cell_type": "code",
   "execution_count": null,
   "metadata": {},
   "outputs": [],
   "source": []
  },
  {
   "cell_type": "code",
   "execution_count": null,
   "metadata": {},
   "outputs": [],
   "source": []
  }
 ]
}